{
 "cells": [
  {
   "cell_type": "code",
   "execution_count": null,
   "metadata": {
    "collapsed": true
   },
   "outputs": [],
   "source": [
    "from pyspark import SparkContext\n",
    "from pyspark import SparkConf\n",
    "from operator import add\n",
    "from pyspark import SparkContext,SQLContext\n",
    "from pyspark.sql import SQLContext\n",
    "from pyspark.mllib.recommendation import ALS"
   ]
  },
  {
   "cell_type": "code",
   "execution_count": 8,
   "metadata": {},
   "outputs": [],
   "source": [
    "conf = SparkConf().setAppName(\"book_recommendation-server\")\n",
    "sc = SparkContext(conf=conf)"
   ]
  },
  {
   "cell_type": "code",
   "execution_count": 18,
   "metadata": {
    "collapsed": true
   },
   "outputs": [],
   "source": [
    "books_raw_RDD = sc.textFile('main/BX-CSV-Dump/BX-Books.csv')"
   ]
  },
  {
   "cell_type": "code",
   "execution_count": 21,
   "metadata": {},
   "outputs": [
    {
     "data": {
      "text/plain": [
       "pyspark.rdd.RDD"
      ]
     },
     "execution_count": 21,
     "metadata": {},
     "output_type": "execute_result"
    }
   ],
   "source": [
    "type(books_raw_RDD)"
   ]
  },
  {
   "cell_type": "code",
   "execution_count": 229,
   "metadata": {},
   "outputs": [
    {
     "data": {
      "text/plain": [
       "'\"ISBN\";\"Book-Title\";\"Book-Author\";\"Year-Of-Publication\";\"Publisher\";\"Image-URL-S\";\"Image-URL-M\";\"Image-URL-L\"'"
      ]
     },
     "execution_count": 229,
     "metadata": {},
     "output_type": "execute_result"
    }
   ],
   "source": [
    "books_raw_data_header"
   ]
  },
  {
   "cell_type": "code",
   "execution_count": 230,
   "metadata": {},
   "outputs": [],
   "source": [
    "books_RDD = books_raw_RDD.filter(lambda line: line != ratings_raw_data_header)\\\n",
    "                            .map(lambda line: line.split(';'))\\\n",
    "                            .map(lambda tokens: (abs(hash(tokens[0][1:-1])) % (10 ** 8), tokens[1][1:-1], tokens[2][1:-1], tokens[3][1:-1], tokens[4][1:-1], tokens[5][1:-1]))\\\n",
    "                            .cache()"
   ]
  },
  {
   "cell_type": "code",
   "execution_count": 231,
   "metadata": {},
   "outputs": [
    {
     "data": {
      "text/plain": [
       "[(58397390,\n",
       "  'Book-Title',\n",
       "  'Book-Author',\n",
       "  'Year-Of-Publication',\n",
       "  'Publisher',\n",
       "  'Image-URL-S')]"
      ]
     },
     "execution_count": 231,
     "metadata": {},
     "output_type": "execute_result"
    }
   ],
   "source": [
    "books_RDD.take(1)"
   ]
  },
  {
   "cell_type": "code",
   "execution_count": 232,
   "metadata": {},
   "outputs": [],
   "source": [
    "books_titles_RDD = books_RDD.map(lambda x : (int(x[0]), x[1], x[2], x[3], x[4], x[5])).cache()"
   ]
  },
  {
   "cell_type": "code",
   "execution_count": 233,
   "metadata": {},
   "outputs": [
    {
     "data": {
      "text/plain": [
       "[(58397390,\n",
       "  'Book-Title',\n",
       "  'Book-Author',\n",
       "  'Year-Of-Publication',\n",
       "  'Publisher',\n",
       "  'Image-URL-S')]"
      ]
     },
     "execution_count": 233,
     "metadata": {},
     "output_type": "execute_result"
    }
   ],
   "source": [
    "books_titles_RDD.take(1)"
   ]
  },
  {
   "cell_type": "code",
   "execution_count": 234,
   "metadata": {},
   "outputs": [],
   "source": [
    "ratings_raw_RDD = sc.textFile('main/BX-CSV-Dump/BX-Book-Ratings.csv')"
   ]
  },
  {
   "cell_type": "code",
   "execution_count": 235,
   "metadata": {},
   "outputs": [],
   "source": [
    "ratings_raw_data_header = ratings_raw_RDD.take(1)[0]"
   ]
  },
  {
   "cell_type": "code",
   "execution_count": 236,
   "metadata": {},
   "outputs": [
    {
     "data": {
      "text/plain": [
       "'\"User-ID\";\"ISBN\";\"Book-Rating\"'"
      ]
     },
     "execution_count": 236,
     "metadata": {},
     "output_type": "execute_result"
    }
   ],
   "source": [
    "ratings_raw_data_header"
   ]
  },
  {
   "cell_type": "code",
   "execution_count": 237,
   "metadata": {},
   "outputs": [],
   "source": [
    "ratings_RDD = ratings_raw_RDD.filter(lambda line : line != ratings_raw_data_header) \\\n",
    "                                .map(lambda line : line.split(';'))\\\n",
    "                                .map(lambda tokens: (int(tokens[0][1:-1]), hash(tokens[1][1:-1]) % 10 ** 8, int(tokens[2][1:-1])))"
   ]
  },
  {
   "cell_type": "code",
   "execution_count": 238,
   "metadata": {},
   "outputs": [
    {
     "data": {
      "text/plain": [
       "[(276725, 68701106, 0),\n",
       " (276726, 46426205, 5),\n",
       " (276727, 90758053, 0),\n",
       " (276729, 44987036, 3),\n",
       " (276729, 78989836, 6),\n",
       " (276733, 30122732, 0),\n",
       " (276736, 64479825, 8),\n",
       " (276737, 43822043, 6),\n",
       " (276744, 83371955, 7),\n",
       " (276745, 78660650, 10)]"
      ]
     },
     "execution_count": 238,
     "metadata": {},
     "output_type": "execute_result"
    }
   ],
   "source": [
    "ratings_RDD.take(10)"
   ]
  },
  {
   "cell_type": "code",
   "execution_count": 239,
   "metadata": {},
   "outputs": [],
   "source": [
    "book_ID_with_ratings_RDD = ratings_RDD.map(lambda x: (x[1], x[2])).groupByKey()"
   ]
  },
  {
   "cell_type": "code",
   "execution_count": 240,
   "metadata": {},
   "outputs": [
    {
     "name": "stdout",
     "output_type": "stream",
     "text": [
      "0\n",
      "5\n",
      "0\n",
      "5\n",
      "9\n",
      "0\n",
      "0\n",
      "0\n",
      "0\n",
      "9\n",
      "0\n",
      "0\n",
      "0\n",
      "8\n",
      "8\n",
      "0\n",
      "0\n",
      "5\n",
      "9\n",
      "6\n",
      "5\n",
      "0\n",
      "7\n",
      "5\n",
      "7\n",
      "0\n",
      "0\n",
      "0\n",
      "0\n",
      "0\n",
      "0\n",
      "0\n",
      "0\n",
      "0\n",
      "0\n",
      "0\n",
      "5\n",
      "0\n",
      "0\n",
      "4\n",
      "0\n",
      "0\n",
      "6\n",
      "9\n",
      "10\n",
      "3\n",
      "0\n",
      "0\n",
      "0\n",
      "3\n",
      "3\n",
      "9\n",
      "8\n",
      "6\n",
      "5\n",
      "3\n",
      "7\n",
      "0\n",
      "0\n",
      "7\n"
     ]
    }
   ],
   "source": [
    "for x in book_ID_with_ratings_RDD.take(2)[0][1]:\n",
    "    print(x)"
   ]
  },
  {
   "cell_type": "code",
   "execution_count": 241,
   "metadata": {},
   "outputs": [],
   "source": [
    "def get_counts_and_average(ID_and_ratings_tuple):\n",
    "    n = len(ID_and_ratings_tuple[1])\n",
    "    return ID_and_ratings_tuple[0], (n, float(sum(x for x in ID_and_ratings_tuple[1]))/ n)"
   ]
  },
  {
   "cell_type": "code",
   "execution_count": 242,
   "metadata": {},
   "outputs": [],
   "source": [
    "book_ID_with_avg_ratings_RDD = book_ID_with_ratings_RDD.map(get_counts_and_average)"
   ]
  },
  {
   "cell_type": "code",
   "execution_count": 243,
   "metadata": {},
   "outputs": [
    {
     "data": {
      "text/plain": [
       "[(68701106, (60, 2.933333333333333)),\n",
       " (44987036, (1, 3.0)),\n",
       " (78989836, (1, 6.0)),\n",
       " (30122732, (3, 3.6666666666666665)),\n",
       " (78660650, (2, 5.0)),\n",
       " (82154322, (134, 2.529850746268657)),\n",
       " (65782350, (137, 2.153284671532847)),\n",
       " (98900142, (7, 3.2857142857142856)),\n",
       " (80851704, (66, 3.6363636363636362)),\n",
       " (88265094, (22, 1.8181818181818181))]"
      ]
     },
     "execution_count": 243,
     "metadata": {},
     "output_type": "execute_result"
    }
   ],
   "source": [
    "book_ID_with_avg_ratings_RDD.take(10)"
   ]
  },
  {
   "cell_type": "code",
   "execution_count": 244,
   "metadata": {},
   "outputs": [],
   "source": [
    "book_ratings_count_RDD = book_ID_with_avg_ratings_RDD.map(lambda x : (x[0], x[1][0]))"
   ]
  },
  {
   "cell_type": "code",
   "execution_count": 245,
   "metadata": {},
   "outputs": [
    {
     "data": {
      "text/plain": [
       "[(68701106, 60), (44987036, 1)]"
      ]
     },
     "execution_count": 245,
     "metadata": {},
     "output_type": "execute_result"
    }
   ],
   "source": [
    "book_ratings_count_RDD.take(2)"
   ]
  },
  {
   "cell_type": "code",
   "execution_count": 246,
   "metadata": {},
   "outputs": [
    {
     "data": {
      "text/plain": [
       "[(276725, 68701106, 0), (276726, 46426205, 5)]"
      ]
     },
     "execution_count": 246,
     "metadata": {},
     "output_type": "execute_result"
    }
   ],
   "source": [
    "ratings_RDD.take(2)"
   ]
  },
  {
   "cell_type": "code",
   "execution_count": 247,
   "metadata": {},
   "outputs": [],
   "source": [
    "rank = 16\n",
    "seed = 5\n",
    "iterations = 10\n",
    "regularization_parameter = 0.1"
   ]
  },
  {
   "cell_type": "code",
   "execution_count": 258,
   "metadata": {},
   "outputs": [],
   "source": [
    "model = ALS.train(ratings_RDD, rank=rank, seed=seed, iterations=iterations, lambda_=regularization_parameter )"
   ]
  },
  {
   "cell_type": "code",
   "execution_count": 249,
   "metadata": {},
   "outputs": [
    {
     "ename": "AttributeError",
     "evalue": "'MatrixFactorizationModel' object has no attribute 'take'",
     "traceback": [
      "\u001b[1;31m---------------------------------------------------------------------------\u001b[0m",
      "\u001b[1;31mAttributeError\u001b[0m                            Traceback (most recent call last)",
      "\u001b[1;32m<ipython-input-249-26e3a195e8b4>\u001b[0m in \u001b[0;36m<module>\u001b[1;34m\u001b[0m\n\u001b[1;32m----> 1\u001b[1;33m \u001b[0mmodel\u001b[0m\u001b[1;33m.\u001b[0m\u001b[0mtake\u001b[0m\u001b[1;33m(\u001b[0m\u001b[1;36m1\u001b[0m\u001b[1;33m)\u001b[0m\u001b[1;33m\u001b[0m\u001b[1;33m\u001b[0m\u001b[0m\n\u001b[0m",
      "\u001b[1;31mAttributeError\u001b[0m: 'MatrixFactorizationModel' object has no attribute 'take'"
     ],
     "output_type": "error"
    }
   ],
   "source": [
    "model.take(1)"
   ]
  },
  {
   "cell_type": "code",
   "execution_count": 272,
   "metadata": {},
   "outputs": [],
   "source": [
    "user_unrated_books_RDD = ratings_RDD.filter(lambda x : x[0] != 276725).map(lambda x : (276725, x[1])).distinct()"
   ]
  },
  {
   "cell_type": "code",
   "execution_count": 17,
   "metadata": {},
   "outputs": [
    {
     "ename": "NameError",
     "evalue": "name 'user_unrated_books_RDD' is not defined",
     "traceback": [
      "\u001b[1;31m---------------------------------------------------------------------------\u001b[0m",
      "\u001b[1;31mNameError\u001b[0m                                 Traceback (most recent call last)",
      "\u001b[1;32m<ipython-input-17-3efe95f16915>\u001b[0m in \u001b[0;36m<module>\u001b[1;34m\u001b[0m\n\u001b[1;32m----> 1\u001b[1;33m \u001b[0muser_unrated_books_RDD\u001b[0m\u001b[1;33m.\u001b[0m\u001b[0mtake\u001b[0m\u001b[1;33m(\u001b[0m\u001b[1;36m9\u001b[0m\u001b[1;33m)\u001b[0m\u001b[1;33m\u001b[0m\u001b[1;33m\u001b[0m\u001b[0m\n\u001b[0m",
      "\u001b[1;31mNameError\u001b[0m: name 'user_unrated_books_RDD' is not defined"
     ],
     "output_type": "error"
    }
   ],
   "source": [
    "user_unrated_books_RDD.take(9)"
   ]
  },
  {
   "cell_type": "code",
   "execution_count": 274,
   "metadata": {},
   "outputs": [],
   "source": [
    "predicted_RDD = model.predictAll(user_unrated_books_RDD)"
   ]
  },
  {
   "cell_type": "code",
   "execution_count": 275,
   "metadata": {},
   "outputs": [
    {
     "data": {
      "text/plain": [
       "2"
      ]
     },
     "execution_count": 275,
     "metadata": {},
     "output_type": "execute_result"
    }
   ],
   "source": [
    "len(predicted_RDD.take(2))"
   ]
  },
  {
   "cell_type": "code",
   "execution_count": 276,
   "metadata": {},
   "outputs": [],
   "source": [
    "predicted_rating_RDD = predicted_RDD.map(lambda x: (x.product, x.rating))"
   ]
  },
  {
   "cell_type": "code",
   "execution_count": 284,
   "metadata": {},
   "outputs": [
    {
     "data": {
      "text/plain": [
       "[(65259168, 0.0),\n",
       " (81442256, 0.0),\n",
       " (15026744, 0.0),\n",
       " (52640784, 0.0),\n",
       " (475832, 0.0)]"
      ]
     },
     "execution_count": 284,
     "metadata": {},
     "output_type": "execute_result"
    }
   ],
   "source": [
    "predicted_rating_RDD.takeOrdered(5, key=lambda x: -x[1])"
   ]
  },
  {
   "cell_type": "code",
   "execution_count": 10,
   "metadata": {},
   "outputs": [],
   "source": [
    "sqlContext=SQLContext(sc)"
   ]
  },
  {
   "cell_type": "code",
   "execution_count": 11,
   "metadata": {},
   "outputs": [],
   "source": [
    "mydf001=sqlContext.read.format(\"jdbc\").option(\"url\",\"jdbc:mysql://localhost:3306/books_recommend\")\\\n",
    "  .option(\"dbtable\",\"main_book\").option(\"user\",\"root\").option(\"password\",\"password\").load()"
   ]
  },
  {
   "cell_type": "code",
   "execution_count": 23,
   "metadata": {},
   "outputs": [
    {
     "name": "stdout",
     "output_type": "stream",
     "text": [
      "+---+--------------------+--------------------+--------------+--------------------+--------------------+----------+\n",
      "| id|               title|              author|published_year|           publisher|           image_url|      isbn|\n",
      "+---+--------------------+--------------------+--------------+--------------------+--------------------+----------+\n",
      "|  1| Classical Mythology|  Mark P. O. Morford|          2002|Oxford University...|http://images.ama...|0195153448|\n",
      "|  2|        Clara Callan|Richard Bruce Wright|          2001|HarperFlamingo Ca...|http://images.ama...|0002005018|\n",
      "|  3|Decision in Normandy|        Carlo D'Este|          1991|     HarperPerennial|http://images.ama...|0060973129|\n",
      "|  4|Flu: The Story of...|    Gina Bari Kolata|          1999|Farrar Straus Giroux|http://images.ama...|0374157065|\n",
      "|  5|The Mummies of Ur...|     E. J. W. Barber|          1999|W. W. Norton &amp...|http://images.ama...|0393045218|\n",
      "|  6|The Kitchen God's...|             Amy Tan|          1991|    Putnam Pub Group|http://images.ama...|0399135782|\n",
      "|  7|What If?: The Wor...|       Robert Cowley|          2000|Berkley Publishin...|http://images.ama...|0425176428|\n",
      "|  8|     PLEADING GUILTY|         Scott Turow|          1993|          Audioworks|http://images.ama...|0671870432|\n",
      "|  9|Under the Black F...|     David Cordingly|          1996|        Random House|http://images.ama...|0679425608|\n",
      "| 10|Where You'll Find...|         Ann Beattie|          2002|            Scribner|http://images.ama...|074322678X|\n",
      "| 11|Nights Below Stat...|David Adams Richards|          1988|     Emblem Editions|http://images.ama...|0771074670|\n",
      "| 12|Hitler's Secret B...|          Adam Lebor|          2000|       Citadel Press|http://images.ama...|080652121X|\n",
      "| 13|  The Middle Stories|         Sheila Heti|          2004|House of Anansi P...|http://images.ama...|0887841740|\n",
      "| 14|            Jane Doe|        R. J. Kaiser|          1999|          Mira Books|http://images.ama...|1552041778|\n",
      "| 15|A Second Chicken ...|       Jack Canfield|          1998|Health Communicat...|http://images.ama...|1558746218|\n",
      "| 16|The Witchfinder (...|   Loren D. Estleman|          1998|Brilliance Audio ...|http://images.ama...|1567407781|\n",
      "| 17|More Cunning Than...|  Robert Hendrickson|          1999|Kensington Publis...|http://images.ama...|1575663937|\n",
      "| 18|Goodbye to the Bu...|        Julia Oliver|          1994|      River City Pub|http://images.ama...|1881320189|\n",
      "| 19|       The Testament|        John Grisham|          1999|                Dell|http://images.ama...|0440234743|\n",
      "| 20|Beloved (Plume Co...|       Toni Morrison|          1994|               Plume|http://images.ama...|0452264464|\n",
      "+---+--------------------+--------------------+--------------+--------------------+--------------------+----------+\n",
      "only showing top 20 rows\n",
      "\n"
     ]
    }
   ],
   "source": [
    "mydf001.show()"
   ]
  },
  {
   "cell_type": "code",
   "execution_count": 24,
   "metadata": {},
   "outputs": [
    {
     "data": {
      "text/plain": [
       "pyspark.sql.dataframe.DataFrame"
      ]
     },
     "execution_count": 24,
     "metadata": {},
     "output_type": "execute_result"
    }
   ],
   "source": [
    "type(mydf001)"
   ]
  },
  {
   "cell_type": "code",
   "execution_count": 25,
   "metadata": {},
   "outputs": [
    {
     "data": {
      "text/plain": [
       "<pyspark.sql.context.SQLContext at 0x19b9fb279e8>"
      ]
     },
     "execution_count": 25,
     "metadata": {},
     "output_type": "execute_result"
    }
   ],
   "source": [
    "sqlContext"
   ]
  },
  {
   "cell_type": "code",
   "execution_count": 31,
   "metadata": {},
   "outputs": [],
   "source": [
    "rd = mydf001.rdd"
   ]
  },
  {
   "cell_type": "code",
   "execution_count": 43,
   "metadata": {},
   "outputs": [
    {
     "data": {
      "text/plain": [
       "Row(id=1, title='Classical Mythology', author='Mark P. O. Morford', published_year='2002', publisher='Oxford University Press', image_url='http://images.amazon.com/images/P/0195153448.01.LZZZZZZZ.jpg', isbn='0195153448')"
      ]
     },
     "execution_count": 43,
     "metadata": {},
     "output_type": "execute_result"
    }
   ],
   "source": [
    "(rd.take(10)[0])"
   ]
  },
  {
   "cell_type": "code",
   "execution_count": 53,
   "metadata": {},
   "outputs": [],
   "source": [
    "rd = mydf001.rdd.map(lambda x: (x.id, x.title, x.published_year, x.isbn))"
   ]
  },
  {
   "cell_type": "code",
   "execution_count": 72,
   "metadata": {},
   "outputs": [
    {
     "data": {
      "text/plain": [
       "271379"
      ]
     },
     "execution_count": 72,
     "metadata": {},
     "output_type": "execute_result"
    }
   ],
   "source": [
    "rd.count()"
   ]
  },
  {
   "cell_type": "code",
   "execution_count": 54,
   "metadata": {},
   "outputs": [
    {
     "data": {
      "text/plain": [
       "PythonRDD[30] at RDD at PythonRDD.scala:52"
      ]
     },
     "execution_count": 54,
     "metadata": {},
     "output_type": "execute_result"
    }
   ],
   "source": [
    "rd"
   ]
  },
  {
   "cell_type": "code",
   "execution_count": 73,
   "metadata": {},
   "outputs": [
    {
     "data": {
      "text/plain": [
       "[(1, 'Classical Mythology', '2002', '0195153448'),\n",
       " (2, 'Clara Callan', '2001', '0002005018'),\n",
       " (3, 'Decision in Normandy', '1991', '0060973129'),\n",
       " (4,\n",
       "  'Flu: The Story of the Great Influenza Pandemic of 1918 and the Search for the Virus That Caused It',\n",
       "  '1999',\n",
       "  '0374157065'),\n",
       " (5, 'The Mummies of Urumchi', '1999', '0393045218')]"
      ]
     },
     "execution_count": 73,
     "metadata": {},
     "output_type": "execute_result"
    }
   ],
   "source": [
    "rd.take(5)"
   ]
  },
  {
   "cell_type": "code",
   "execution_count": null,
   "metadata": {},
   "outputs": [],
   "source": []
  }
 ],
 "metadata": {
  "kernelspec": {
   "display_name": "Python 3",
   "language": "python",
   "name": "python3"
  },
  "language_info": {
   "codemirror_mode": {
    "name": "ipython",
    "version": 3
   },
   "file_extension": ".py",
   "mimetype": "text/x-python",
   "name": "python",
   "nbconvert_exporter": "python",
   "pygments_lexer": "ipython3",
   "version": "3.6.8"
  }
 },
 "nbformat": 4,
 "nbformat_minor": 2
}
