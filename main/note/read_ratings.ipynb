{
 "cells": [
  {
   "cell_type": "code",
   "execution_count": 45,
   "metadata": {},
   "outputs": [],
   "source": [
    "import pymysql\n",
    "import math\n",
    "import operator\n",
    "import redis\n",
    "import pickle\n",
    "from datetime import datetime"
   ]
  },
  {
   "cell_type": "code",
   "execution_count": 46,
   "metadata": {},
   "outputs": [],
   "source": [
    "def get_ratings():\n",
    "    db = pymysql.connect('localhost', 'root', 'password', 'books_recommend',charset='utf8')\n",
    "    cursor = db.cursor()\n",
    "    cursor.execute('select user_id, book_id, rating from main_rating')\n",
    "    results = cursor.fetchall()\n",
    "    \n",
    "    ratings = {}\n",
    "    for row in results:\n",
    "        user_id = row[0]\n",
    "        book_id = row[1]\n",
    "        rating = row[2]\n",
    "        if (float(rating) <= 3):\n",
    "            continue\n",
    "        if user_id not in ratings:\n",
    "            ratings[user_id] = []\n",
    "        ratings[user_id].append(book_id)\n",
    "        pass\n",
    "    cursor.close()\n",
    "    db.close()\n",
    "    del results\n",
    "    del db\n",
    "    del cursor\n",
    "    return ratings"
   ]
  },
  {
   "cell_type": "code",
   "execution_count": 47,
   "metadata": {},
   "outputs": [],
   "source": [
    "def calculate_similarity(ratings):\n",
    "    book_rating_times = {}\n",
    "    book_appear_times = {}\n",
    "    for user_id, book_ids in ratings.items():\n",
    "        for i in range(0, len(book_ids)):\n",
    "            book_i_id = book_ids[i]\n",
    "            book_rating_times.setdefault(book_i_id, 0)\n",
    "            book_rating_times[book_i_id] += 1\n",
    "            \n",
    "            for j in range(i + 1, len(book_ids)):\n",
    "                book_j_id = book_ids[j]\n",
    "                book_appear_times.setdefault(book_i_id, {})\n",
    "                book_appear_times[book_i_id].setdefault(book_j_id, 0)\n",
    "                book_appear_times[book_i_id][book_j_id] += 1\n",
    "                \n",
    "                book_appear_times.setdefault(book_j_id, {})\n",
    "                book_appear_times[book_j_id].setdefault(book_i_id, 0)\n",
    "                book_appear_times[book_j_id][book_i_id] += 1\n",
    "                pass\n",
    "            pass\n",
    "        pass\n",
    "    pass\n",
    "\n",
    "    book_similarity_score = {}\n",
    "    for i, relate_item in book_appear_times.items():\n",
    "        for j, time in relate_item.items():\n",
    "            score = time / math.sqrt(book_rating_times[i] * book_rating_times[j])\n",
    "            book_similarity_score.setdefault(i, {})\n",
    "            book_similarity_score[i].setdefault(j, 0)\n",
    "            book_similarity_score[i][j] = score\n",
    "    \n",
    "    book_similarity_score_sorted = {}\n",
    "    for i in book_similarity_score:\n",
    "        book_similarity_score_sorted[i] = sorted(book_similarity_score[i].items(), key=operator.itemgetter(1), reverse=True)\n",
    "        \n",
    "    del book_rating_times\n",
    "    del book_appear_times\n",
    "    return book_similarity_score, book_similarity_score_sorted"
   ]
  },
  {
   "cell_type": "code",
   "execution_count": 52,
   "metadata": {},
   "outputs": [],
   "source": [
    "def main_flow():\n",
    "    start_time = datetime.now()\n",
    "    ratings = get_ratings()\n",
    "    books_similarity, books_similarity_sorted = calculate_similarity(ratings)\n",
    "    del ratings\n",
    "    \n",
    "    print('now start to flush to redis')\n",
    "    r = redis.Redis(host='localhost', port=6379, db=0, password='password_of_redis_password_of_redis')\n",
    "    r.set('books_recommend:unsorted_similarity', pickle.dumps(books_similarity))\n",
    "    r.set('books_recommend:sorted_similarity', pickle.dumps(books_similarity_sorted))\n",
    "    del books_similarity\n",
    "    del books_similarity_sorted\n",
    "    \n",
    "    end_time = datetime.now()\n",
    "    r.set('books_recommend:cost_time', pickle.dumps(end_time - start_time))\n",
    "    \n",
    "    print('flush ended')\n",
    "    print((end_time - start_time).total_seconds())\n",
    "    pass"
   ]
  },
  {
   "cell_type": "code",
   "execution_count": 53,
   "metadata": {},
   "outputs": [
    {
     "name": "stdout",
     "output_type": "stream",
     "text": [
      "now start to flush to redis\n",
      "flush ended\n",
      "7.588223\n"
     ]
    }
   ],
   "source": [
    "main_flow()"
   ]
  },
  {
   "cell_type": "code",
   "execution_count": null,
   "metadata": {},
   "outputs": [],
   "source": []
  },
  {
   "cell_type": "code",
   "execution_count": null,
   "metadata": {},
   "outputs": [],
   "source": []
  }
 ],
 "metadata": {
  "kernelspec": {
   "display_name": "Python 3",
   "language": "python",
   "name": "python3"
  },
  "language_info": {
   "codemirror_mode": {
    "name": "ipython",
    "version": 3
   },
   "file_extension": ".py",
   "mimetype": "text/x-python",
   "name": "python",
   "nbconvert_exporter": "python",
   "pygments_lexer": "ipython3",
   "version": "3.6.8"
  }
 },
 "nbformat": 4,
 "nbformat_minor": 2
}
