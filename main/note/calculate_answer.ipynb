{
 "cells": [
  {
   "cell_type": "code",
   "execution_count": 1,
   "metadata": {},
   "outputs": [],
   "source": [
    "import pymysql\n",
    "import math\n",
    "import operator\n",
    "import redis\n",
    "import pickle"
   ]
  },
  {
   "cell_type": "code",
   "execution_count": 2,
   "metadata": {},
   "outputs": [],
   "source": [
    "def get_similarity():\n",
    "    r = redis.Redis(host='localhost', port=6379, db=0, password='password_of_redis_password_of_redis')\n",
    "    s = pickle.loads(r.get('books_recommend:unsorted_similarity'))\n",
    "    ss = pickle.loads(r.get('books_recommend:sorted_similarity'))\n",
    "    return s, ss"
   ]
  },
  {
   "cell_type": "code",
   "execution_count": 3,
   "metadata": {},
   "outputs": [],
   "source": [
    "books_similarity, books_similarity_sorted = get_similarity()\n",
    "# books_similarity[1]\n",
    "# del books_similarity, books_similarity_sorte"
   ]
  },
  {
   "cell_type": "code",
   "execution_count": null,
   "metadata": {},
   "outputs": [],
   "source": [
    "def make_recommendation(user_id, k):\n",
    "    books_similarity, books_similarity_sorted = get_similarity()\n",
    "    \n",
    "    "
   ]
  },
  {
   "cell_type": "code",
   "execution_count": null,
   "metadata": {},
   "outputs": [],
   "source": []
  }
 ],
 "metadata": {
  "kernelspec": {
   "display_name": "Python 3",
   "language": "python",
   "name": "python3"
  },
  "language_info": {
   "codemirror_mode": {
    "name": "ipython",
    "version": 3
   },
   "file_extension": ".py",
   "mimetype": "text/x-python",
   "name": "python",
   "nbconvert_exporter": "python",
   "pygments_lexer": "ipython3",
   "version": "3.6.8"
  }
 },
 "nbformat": 4,
 "nbformat_minor": 2
}
